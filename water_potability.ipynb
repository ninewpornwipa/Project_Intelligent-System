{
  "nbformat": 4,
  "nbformat_minor": 0,
  "metadata": {
    "colab": {
      "provenance": []
    },
    "kernelspec": {
      "name": "python3",
      "display_name": "Python 3"
    },
    "language_info": {
      "name": "python"
    }
  },
  "cells": [
    {
      "cell_type": "code",
      "source": [
        "from google.colab import files\n",
        "uploaded = files.upload()"
      ],
      "metadata": {
        "colab": {
          "base_uri": "https://localhost:8080/",
          "height": 74
        },
        "id": "7OPAGYwigpyU",
        "outputId": "8835e8dc-58c8-4380-d814-2bb659ceae0b"
      },
      "execution_count": null,
      "outputs": [
        {
          "output_type": "display_data",
          "data": {
            "text/plain": [
              "<IPython.core.display.HTML object>"
            ],
            "text/html": [
              "\n",
              "     <input type=\"file\" id=\"files-dccfe9d3-9107-47ba-bd56-f0de2e173ea0\" name=\"files[]\" multiple disabled\n",
              "        style=\"border:none\" />\n",
              "     <output id=\"result-dccfe9d3-9107-47ba-bd56-f0de2e173ea0\">\n",
              "      Upload widget is only available when the cell has been executed in the\n",
              "      current browser session. Please rerun this cell to enable.\n",
              "      </output>\n",
              "      <script>// Copyright 2017 Google LLC\n",
              "//\n",
              "// Licensed under the Apache License, Version 2.0 (the \"License\");\n",
              "// you may not use this file except in compliance with the License.\n",
              "// You may obtain a copy of the License at\n",
              "//\n",
              "//      http://www.apache.org/licenses/LICENSE-2.0\n",
              "//\n",
              "// Unless required by applicable law or agreed to in writing, software\n",
              "// distributed under the License is distributed on an \"AS IS\" BASIS,\n",
              "// WITHOUT WARRANTIES OR CONDITIONS OF ANY KIND, either express or implied.\n",
              "// See the License for the specific language governing permissions and\n",
              "// limitations under the License.\n",
              "\n",
              "/**\n",
              " * @fileoverview Helpers for google.colab Python module.\n",
              " */\n",
              "(function(scope) {\n",
              "function span(text, styleAttributes = {}) {\n",
              "  const element = document.createElement('span');\n",
              "  element.textContent = text;\n",
              "  for (const key of Object.keys(styleAttributes)) {\n",
              "    element.style[key] = styleAttributes[key];\n",
              "  }\n",
              "  return element;\n",
              "}\n",
              "\n",
              "// Max number of bytes which will be uploaded at a time.\n",
              "const MAX_PAYLOAD_SIZE = 100 * 1024;\n",
              "\n",
              "function _uploadFiles(inputId, outputId) {\n",
              "  const steps = uploadFilesStep(inputId, outputId);\n",
              "  const outputElement = document.getElementById(outputId);\n",
              "  // Cache steps on the outputElement to make it available for the next call\n",
              "  // to uploadFilesContinue from Python.\n",
              "  outputElement.steps = steps;\n",
              "\n",
              "  return _uploadFilesContinue(outputId);\n",
              "}\n",
              "\n",
              "// This is roughly an async generator (not supported in the browser yet),\n",
              "// where there are multiple asynchronous steps and the Python side is going\n",
              "// to poll for completion of each step.\n",
              "// This uses a Promise to block the python side on completion of each step,\n",
              "// then passes the result of the previous step as the input to the next step.\n",
              "function _uploadFilesContinue(outputId) {\n",
              "  const outputElement = document.getElementById(outputId);\n",
              "  const steps = outputElement.steps;\n",
              "\n",
              "  const next = steps.next(outputElement.lastPromiseValue);\n",
              "  return Promise.resolve(next.value.promise).then((value) => {\n",
              "    // Cache the last promise value to make it available to the next\n",
              "    // step of the generator.\n",
              "    outputElement.lastPromiseValue = value;\n",
              "    return next.value.response;\n",
              "  });\n",
              "}\n",
              "\n",
              "/**\n",
              " * Generator function which is called between each async step of the upload\n",
              " * process.\n",
              " * @param {string} inputId Element ID of the input file picker element.\n",
              " * @param {string} outputId Element ID of the output display.\n",
              " * @return {!Iterable<!Object>} Iterable of next steps.\n",
              " */\n",
              "function* uploadFilesStep(inputId, outputId) {\n",
              "  const inputElement = document.getElementById(inputId);\n",
              "  inputElement.disabled = false;\n",
              "\n",
              "  const outputElement = document.getElementById(outputId);\n",
              "  outputElement.innerHTML = '';\n",
              "\n",
              "  const pickedPromise = new Promise((resolve) => {\n",
              "    inputElement.addEventListener('change', (e) => {\n",
              "      resolve(e.target.files);\n",
              "    });\n",
              "  });\n",
              "\n",
              "  const cancel = document.createElement('button');\n",
              "  inputElement.parentElement.appendChild(cancel);\n",
              "  cancel.textContent = 'Cancel upload';\n",
              "  const cancelPromise = new Promise((resolve) => {\n",
              "    cancel.onclick = () => {\n",
              "      resolve(null);\n",
              "    };\n",
              "  });\n",
              "\n",
              "  // Wait for the user to pick the files.\n",
              "  const files = yield {\n",
              "    promise: Promise.race([pickedPromise, cancelPromise]),\n",
              "    response: {\n",
              "      action: 'starting',\n",
              "    }\n",
              "  };\n",
              "\n",
              "  cancel.remove();\n",
              "\n",
              "  // Disable the input element since further picks are not allowed.\n",
              "  inputElement.disabled = true;\n",
              "\n",
              "  if (!files) {\n",
              "    return {\n",
              "      response: {\n",
              "        action: 'complete',\n",
              "      }\n",
              "    };\n",
              "  }\n",
              "\n",
              "  for (const file of files) {\n",
              "    const li = document.createElement('li');\n",
              "    li.append(span(file.name, {fontWeight: 'bold'}));\n",
              "    li.append(span(\n",
              "        `(${file.type || 'n/a'}) - ${file.size} bytes, ` +\n",
              "        `last modified: ${\n",
              "            file.lastModifiedDate ? file.lastModifiedDate.toLocaleDateString() :\n",
              "                                    'n/a'} - `));\n",
              "    const percent = span('0% done');\n",
              "    li.appendChild(percent);\n",
              "\n",
              "    outputElement.appendChild(li);\n",
              "\n",
              "    const fileDataPromise = new Promise((resolve) => {\n",
              "      const reader = new FileReader();\n",
              "      reader.onload = (e) => {\n",
              "        resolve(e.target.result);\n",
              "      };\n",
              "      reader.readAsArrayBuffer(file);\n",
              "    });\n",
              "    // Wait for the data to be ready.\n",
              "    let fileData = yield {\n",
              "      promise: fileDataPromise,\n",
              "      response: {\n",
              "        action: 'continue',\n",
              "      }\n",
              "    };\n",
              "\n",
              "    // Use a chunked sending to avoid message size limits. See b/62115660.\n",
              "    let position = 0;\n",
              "    do {\n",
              "      const length = Math.min(fileData.byteLength - position, MAX_PAYLOAD_SIZE);\n",
              "      const chunk = new Uint8Array(fileData, position, length);\n",
              "      position += length;\n",
              "\n",
              "      const base64 = btoa(String.fromCharCode.apply(null, chunk));\n",
              "      yield {\n",
              "        response: {\n",
              "          action: 'append',\n",
              "          file: file.name,\n",
              "          data: base64,\n",
              "        },\n",
              "      };\n",
              "\n",
              "      let percentDone = fileData.byteLength === 0 ?\n",
              "          100 :\n",
              "          Math.round((position / fileData.byteLength) * 100);\n",
              "      percent.textContent = `${percentDone}% done`;\n",
              "\n",
              "    } while (position < fileData.byteLength);\n",
              "  }\n",
              "\n",
              "  // All done.\n",
              "  yield {\n",
              "    response: {\n",
              "      action: 'complete',\n",
              "    }\n",
              "  };\n",
              "}\n",
              "\n",
              "scope.google = scope.google || {};\n",
              "scope.google.colab = scope.google.colab || {};\n",
              "scope.google.colab._files = {\n",
              "  _uploadFiles,\n",
              "  _uploadFilesContinue,\n",
              "};\n",
              "})(self);\n",
              "</script> "
            ]
          },
          "metadata": {}
        },
        {
          "output_type": "stream",
          "name": "stdout",
          "text": [
            "Saving water_potability.csv to water_potability.csv\n"
          ]
        }
      ]
    },
    {
      "cell_type": "code",
      "source": [
        "from sklearn.model_selection import train_test_split\n",
        "from sklearn.preprocessing import StandardScaler\n",
        "from sklearn.linear_model import LogisticRegression\n",
        "from sklearn.ensemble import RandomForestClassifier\n",
        "from sklearn.svm import SVC\n",
        "from sklearn.metrics import accuracy_score, classification_report\n",
        "import pandas as pd\n",
        "import numpy as np"
      ],
      "metadata": {
        "id": "Fori4KxTgwfk"
      },
      "execution_count": 23,
      "outputs": []
    },
    {
      "cell_type": "code",
      "source": [
        "file_path = 'water_potability.csv'\n",
        "df = pd.read_csv(file_path)"
      ],
      "metadata": {
        "id": "BiuCVNoxjED0"
      },
      "execution_count": 24,
      "outputs": []
    },
    {
      "cell_type": "code",
      "source": [
        "df.fillna(df.mean(), inplace=True)"
      ],
      "metadata": {
        "id": "H-wSldrSjHz0"
      },
      "execution_count": 25,
      "outputs": []
    },
    {
      "cell_type": "code",
      "source": [
        "X = df.drop('Potability', axis=1)\n",
        "y = df['Potability']"
      ],
      "metadata": {
        "id": "qTalXODfjOis"
      },
      "execution_count": 26,
      "outputs": []
    },
    {
      "cell_type": "code",
      "source": [
        "X_train, X_test, y_train, y_test = train_test_split(X, y, test_size=0.2, random_state=42, stratify=y)"
      ],
      "metadata": {
        "id": "OouuV3mIjQR1"
      },
      "execution_count": 27,
      "outputs": []
    },
    {
      "cell_type": "code",
      "source": [
        "scaler = StandardScaler()\n",
        "X_train_scaled = scaler.fit_transform(X_train)\n",
        "X_test_scaled = scaler.transform(X_test)"
      ],
      "metadata": {
        "id": "po9tDzL7qFu2"
      },
      "execution_count": 28,
      "outputs": []
    },
    {
      "cell_type": "code",
      "source": [
        "# Train Random Forest Classifier\n",
        "rf_model = RandomForestClassifier(n_estimators=100, random_state=42)\n",
        "rf_model.fit(X_train, y_train)\n",
        "rf_predictions = rf_model.predict(X_test)\n",
        "rf_accuracy = accuracy_score(y_test, rf_predictions)\n",
        "print(f'Random Forest Accuracy: {rf_accuracy:.4f}')\n",
        "print('Random Forest Classification Report:\\n', classification_report(y_test, rf_predictions))\n"
      ],
      "metadata": {
        "id": "h5P3DRojjSxb",
        "colab": {
          "base_uri": "https://localhost:8080/"
        },
        "outputId": "c3d1c7cf-d9e1-43b8-f001-73035fb2c631"
      },
      "execution_count": 29,
      "outputs": [
        {
          "output_type": "stream",
          "name": "stdout",
          "text": [
            "Random Forest Accuracy: 0.6555\n",
            "Random Forest Classification Report:\n",
            "               precision    recall  f1-score   support\n",
            "\n",
            "           0       0.67      0.88      0.76       400\n",
            "           1       0.62      0.31      0.41       256\n",
            "\n",
            "    accuracy                           0.66       656\n",
            "   macro avg       0.64      0.59      0.59       656\n",
            "weighted avg       0.65      0.66      0.62       656\n",
            "\n"
          ]
        }
      ]
    },
    {
      "cell_type": "code",
      "source": [
        "# Train SVM Classifier\n",
        "svm_model = SVC(kernel='rbf', random_state=42)\n",
        "svm_model.fit(X_train_scaled, y_train)\n",
        "svm_predictions = svm_model.predict(X_test_scaled)\n",
        "svm_accuracy = accuracy_score(y_test, svm_predictions)\n",
        "print(f'SVM Accuracy: {svm_accuracy:.4f}')\n",
        "print('SVM Classification Report:\\n', classification_report(y_test, svm_predictions))"
      ],
      "metadata": {
        "id": "lmOP8dEKk2rl",
        "colab": {
          "base_uri": "https://localhost:8080/"
        },
        "outputId": "11bc0591-3db5-49b7-ffe2-3c89222d7bc2"
      },
      "execution_count": 30,
      "outputs": [
        {
          "output_type": "stream",
          "name": "stdout",
          "text": [
            "SVM Accuracy: 0.6692\n",
            "SVM Classification Report:\n",
            "               precision    recall  f1-score   support\n",
            "\n",
            "           0       0.66      0.93      0.77       400\n",
            "           1       0.70      0.27      0.39       256\n",
            "\n",
            "    accuracy                           0.67       656\n",
            "   macro avg       0.68      0.60      0.58       656\n",
            "weighted avg       0.68      0.67      0.62       656\n",
            "\n"
          ]
        }
      ]
    },
    {
      "cell_type": "code",
      "source": [
        "# Train Logistic Regression model\n",
        "logistic_model = LogisticRegression()\n",
        "logistic_model.fit(X_train_scaled, y_train)\n",
        "logistic_predictions = logistic_model.predict(X_test_scaled)\n",
        "logistic_accuracy = accuracy_score(y_test, logistic_predictions)\n",
        "print(f'Logistic Regression Accuracy: {logistic_accuracy:.4f}')\n",
        "print('Logistic Regression Classification Report:\\n', classification_report(y_test, logistic_predictions))"
      ],
      "metadata": {
        "colab": {
          "base_uri": "https://localhost:8080/"
        },
        "id": "JTeeVHcPqOnV",
        "outputId": "f375aece-2529-40bb-974e-985c4f0b5f27"
      },
      "execution_count": 31,
      "outputs": [
        {
          "output_type": "stream",
          "name": "stdout",
          "text": [
            "Logistic Regression Accuracy: 0.6098\n",
            "Logistic Regression Classification Report:\n",
            "               precision    recall  f1-score   support\n",
            "\n",
            "           0       0.61      1.00      0.76       400\n",
            "           1       0.00      0.00      0.00       256\n",
            "\n",
            "    accuracy                           0.61       656\n",
            "   macro avg       0.30      0.50      0.38       656\n",
            "weighted avg       0.37      0.61      0.46       656\n",
            "\n"
          ]
        },
        {
          "output_type": "stream",
          "name": "stderr",
          "text": [
            "/usr/local/lib/python3.11/dist-packages/sklearn/metrics/_classification.py:1565: UndefinedMetricWarning: Precision is ill-defined and being set to 0.0 in labels with no predicted samples. Use `zero_division` parameter to control this behavior.\n",
            "  _warn_prf(average, modifier, f\"{metric.capitalize()} is\", len(result))\n",
            "/usr/local/lib/python3.11/dist-packages/sklearn/metrics/_classification.py:1565: UndefinedMetricWarning: Precision is ill-defined and being set to 0.0 in labels with no predicted samples. Use `zero_division` parameter to control this behavior.\n",
            "  _warn_prf(average, modifier, f\"{metric.capitalize()} is\", len(result))\n",
            "/usr/local/lib/python3.11/dist-packages/sklearn/metrics/_classification.py:1565: UndefinedMetricWarning: Precision is ill-defined and being set to 0.0 in labels with no predicted samples. Use `zero_division` parameter to control this behavior.\n",
            "  _warn_prf(average, modifier, f\"{metric.capitalize()} is\", len(result))\n"
          ]
        }
      ]
    },
    {
      "cell_type": "code",
      "source": [
        "# ประเมินผลลัพธ์ของทั้งสามโมเดล\n",
        "rf_accuracy = accuracy_score(y_test, rf_predictions)\n",
        "svm_accuracy = accuracy_score(y_test, svm_predictions)\n",
        "logistic_accuracy = accuracy_score(y_test, logistic_predictions)\n",
        "\n",
        "rf_report = classification_report(y_test, rf_predictions, zero_division=1)\n",
        "svm_report = classification_report(y_test, svm_predictions, zero_division=1)\n",
        "logistic_report = classification_report(y_test, logistic_predictions, zero_division=1)"
      ],
      "metadata": {
        "id": "Oeum9wdGk-Fc"
      },
      "execution_count": 32,
      "outputs": []
    },
    {
      "cell_type": "code",
      "source": [
        "# แสดงผลลัพธ์\n",
        "print(f\"Random Forest Accuracy: {rf_accuracy:.2f}\")\n",
        "print(\"Random Forest Classification Report:\\n\", rf_report)\n",
        "\n",
        "print(f\"SVM Accuracy: {svm_accuracy:.2f}\")\n",
        "print(\"SVM Classification Report:\\n\", svm_report)\n",
        "\n",
        "print(f\"Logistic Regression Accuracy: {logistic_accuracy:.2f}\")\n",
        "print(\"Logistic Regression Classification Report:\\n\", logistic_report)"
      ],
      "metadata": {
        "id": "LuGgTf9IlFFc",
        "outputId": "14902c6e-af62-42da-90d2-894c580b7a8b",
        "colab": {
          "base_uri": "https://localhost:8080/"
        }
      },
      "execution_count": 33,
      "outputs": [
        {
          "output_type": "stream",
          "name": "stdout",
          "text": [
            "Random Forest Accuracy: 0.66\n",
            "Random Forest Classification Report:\n",
            "               precision    recall  f1-score   support\n",
            "\n",
            "           0       0.67      0.88      0.76       400\n",
            "           1       0.62      0.31      0.41       256\n",
            "\n",
            "    accuracy                           0.66       656\n",
            "   macro avg       0.64      0.59      0.59       656\n",
            "weighted avg       0.65      0.66      0.62       656\n",
            "\n",
            "SVM Accuracy: 0.67\n",
            "SVM Classification Report:\n",
            "               precision    recall  f1-score   support\n",
            "\n",
            "           0       0.66      0.93      0.77       400\n",
            "           1       0.70      0.27      0.39       256\n",
            "\n",
            "    accuracy                           0.67       656\n",
            "   macro avg       0.68      0.60      0.58       656\n",
            "weighted avg       0.68      0.67      0.62       656\n",
            "\n",
            "Logistic Regression Accuracy: 0.61\n",
            "Logistic Regression Classification Report:\n",
            "               precision    recall  f1-score   support\n",
            "\n",
            "           0       0.61      1.00      0.76       400\n",
            "           1       1.00      0.00      0.00       256\n",
            "\n",
            "    accuracy                           0.61       656\n",
            "   macro avg       0.80      0.50      0.38       656\n",
            "weighted avg       0.76      0.61      0.46       656\n",
            "\n"
          ]
        }
      ]
    },
    {
      "cell_type": "code",
      "source": [
        "# ฟังก์ชันให้ผู้ใช้ป้อนค่าด้วยมือ และใช้ทั้ง 3 โมเดลพร้อมกัน\n",
        "def predict_water_quality():\n",
        "    print(\"\\nกรุณาป้อนค่าคุณภาพน้ำ:\")\n",
        "    ph = float(input(\"ค่า pH: \"))\n",
        "    Hardness = float(input(\"ค่าความกระด้าง (Hardness): \"))\n",
        "    Solids = float(input(\"ค่าของแข็งละลายน้ำ (Solids): \"))\n",
        "    Chloramines = float(input(\"ค่าคลอรามีน (Chloramines): \"))\n",
        "    Sulfate = float(input(\"ค่าซัลเฟต (Sulfate): \"))\n",
        "    Conductivity = float(input(\"ค่าการนำไฟฟ้า (Conductivity): \"))\n",
        "    Organic_carbon = float(input(\"ค่าคาร์บอนอินทรีย์ (Organic_carbon): \"))\n",
        "    Trihalomethanes = float(input(\"ค่าไตรฮาโลมีเทน (Trihalomethanes): \"))\n",
        "    Turbidity = float(input(\"ค่าความขุ่น (Turbidity): \"))\n",
        "\n",
        "    # สร้าง DataFrame จากอินพุต\n",
        "    input_data = pd.DataFrame([[ph, Hardness, Solids, Chloramines, Sulfate, Conductivity, Organic_carbon, Trihalomethanes, Turbidity]],\n",
        "                              columns=X.columns)\n",
        "\n",
        "    # ทำการสเกลข้อมูลเหมือนกับตอน train\n",
        "    input_data_scaled = scaler.transform(input_data)\n",
        "\n",
        "    # ทำนายผลด้วยทั้ง 3 โมเดล\n",
        "    rf_prediction = rf_model.predict(input_data)[0]\n",
        "    svm_prediction = svm_model.predict(input_data_scaled)[0]\n",
        "    logistic_prediction = logistic_model.predict(input_data_scaled)[0]\n",
        "\n",
        "    # สร้าง dictionary สำหรับแสดงผลลัพธ์\n",
        "    results = {\n",
        "        \"Random Forest\": rf_prediction,\n",
        "        \"SVM\": svm_prediction,\n",
        "        \"Logistic Regression\": logistic_prediction\n",
        "    }\n",
        "\n",
        "    # แสดงผลลัพธ์ของแต่ละโมเดล\n",
        "    print(\"\\n🔹 **ผลลัพธ์จากทั้ง 3 โมเดล** 🔹\")\n",
        "    for model, prediction in results.items():\n",
        "        status = \"✅ น้ำดื่มได้\" if prediction == 1 else \"❌ น้ำดื่มไม่ได้\"\n",
        "        print(f\"{model}: {status}\")\n",
        "\n",
        "# เรียกใช้งานฟังก์ชัน\n",
        "predict_water_quality()\n"
      ],
      "metadata": {
        "id": "EOsHCR8plI1U",
        "colab": {
          "base_uri": "https://localhost:8080/"
        },
        "outputId": "890413e2-7de9-4377-a4c2-e0748ddbd8d1"
      },
      "execution_count": 37,
      "outputs": [
        {
          "output_type": "stream",
          "name": "stdout",
          "text": [
            "\n",
            "กรุณาป้อนค่าคุณภาพน้ำ:\n",
            "ค่า pH: 6\n",
            "ค่าความกระด้าง (Hardness): 209\n",
            "ค่าของแข็งละลายน้ำ (Solids): 10575\n",
            "ค่าคลอรามีน (Chloramines): 4\n",
            "ค่าซัลเฟต (Sulfate): 315\n",
            "ค่าการนำไฟฟ้า (Conductivity): 391\n",
            "ค่าคาร์บอนอินทรีย์ (Organic_carbon): 13\n",
            "ค่าไตรฮาโลมีเทน (Trihalomethanes): 87\n",
            "ค่าความขุ่น (Turbidity): 3\n",
            "\n",
            "🔹 **ผลลัพธ์จากทั้ง 3 โมเดล** 🔹\n",
            "Random Forest: ❌ น้ำดื่มไม่ได้\n",
            "SVM: ❌ น้ำดื่มไม่ได้\n",
            "Logistic Regression: ❌ น้ำดื่มไม่ได้\n"
          ]
        }
      ]
    },
    {
      "cell_type": "code",
      "source": [
        "import joblib  # ใช้สำหรับบันทึกโมเดล\n",
        "\n",
        "# บันทึกโมเดล Random Forest\n",
        "joblib.dump(rf_model, \"random_forest_model.pkl\")\n",
        "\n",
        "# บันทึกโมเดล SVM\n",
        "joblib.dump(svm_model, \"svm_model.pkl\")\n",
        "\n",
        "# บันทึกโมเดล Logistic Regression\n",
        "joblib.dump(logistic_model, \"logistic_regression_model.pkl\")\n",
        "\n",
        "print(\"✅ บันทึกโมเดลทั้ง 3 ตัวเป็นไฟล์ .pkl เรียบร้อยแล้ว!\")\n"
      ],
      "metadata": {
        "colab": {
          "base_uri": "https://localhost:8080/"
        },
        "id": "7QfDl6ChyncI",
        "outputId": "84f37fc4-8986-41d7-a452-a70e599357d5"
      },
      "execution_count": 39,
      "outputs": [
        {
          "output_type": "stream",
          "name": "stdout",
          "text": [
            "✅ บันทึกโมเดลทั้ง 3 ตัวเป็นไฟล์ .pkl เรียบร้อยแล้ว!\n"
          ]
        }
      ]
    }
  ]
}